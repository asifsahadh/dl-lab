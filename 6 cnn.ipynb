{
 "cells": [
  {
   "cell_type": "markdown",
   "id": "0f37da7d",
   "metadata": {},
   "source": [
    "### __CNN Assignment | Mohammed Asif Sahadh - 24MSD7061__"
   ]
  },
  {
   "cell_type": "markdown",
   "id": "427ebfee",
   "metadata": {},
   "source": [
    "#### Import libraries"
   ]
  },
  {
   "cell_type": "code",
   "execution_count": 2,
   "id": "333d90cf",
   "metadata": {},
   "outputs": [],
   "source": [
    "import numpy as np\n",
    "import os\n",
    "from PIL import Image"
   ]
  },
  {
   "cell_type": "markdown",
   "id": "a0394c2f",
   "metadata": {},
   "source": [
    "#### Training data - Bears"
   ]
  },
  {
   "cell_type": "code",
   "execution_count": 3,
   "id": "163b55b6",
   "metadata": {},
   "outputs": [],
   "source": [
    "train_bears_dir = r\"pandas-bears\\1. train\\bears\"\n",
    "train_bears_imgs = []\n",
    "for img in os.listdir(train_bears_dir):\n",
    "    img_path = os.path.join(train_bears_dir, img)\n",
    "    train_bears_img = Image.open(img_path, 'r')\n",
    "    train_bears_imgs.append(train_bears_img)\n",
    "\n",
    "train_bears_data = np.array(train_bears_imgs)"
   ]
  },
  {
   "cell_type": "markdown",
   "id": "0b635ba6",
   "metadata": {},
   "source": [
    "#### Training data - Pandas"
   ]
  },
  {
   "cell_type": "code",
   "execution_count": 4,
   "id": "065d62b9",
   "metadata": {},
   "outputs": [],
   "source": [
    "train_pandas_dir = r\"pandas-bears\\1. train\\pandas\"\n",
    "train_pandas_imgs = []\n",
    "for img in os.listdir(train_pandas_dir):\n",
    "    img_path = os.path.join(train_pandas_dir, img)\n",
    "    train_pandas_img = Image.open(img_path, 'r')\n",
    "    train_pandas_imgs.append(train_pandas_img)\n",
    "\n",
    "train_pandas_data = np.array(train_pandas_imgs)"
   ]
  },
  {
   "cell_type": "markdown",
   "id": "13820ece",
   "metadata": {},
   "source": [
    "#### Testing data - Bears"
   ]
  },
  {
   "cell_type": "code",
   "execution_count": 5,
   "id": "f9bdf44d",
   "metadata": {},
   "outputs": [],
   "source": [
    "test_bears_dir = r\"pandas-bears\\2. test\\bears\"\n",
    "test_bears_imgs = []\n",
    "for img in os.listdir(test_bears_dir):\n",
    "    img_path = os.path.join(test_bears_dir, img)\n",
    "    test_bears_img = Image.open(img_path, 'r')\n",
    "    test_bears_imgs.append(test_bears_img)\n",
    "\n",
    "test_bears_data = np.array(test_bears_imgs)"
   ]
  },
  {
   "cell_type": "markdown",
   "id": "2c063bab",
   "metadata": {},
   "source": [
    "#### Testing data - Pandas"
   ]
  },
  {
   "cell_type": "code",
   "execution_count": 6,
   "id": "8799e3b8",
   "metadata": {},
   "outputs": [],
   "source": [
    "test_pandas_dir = r\"pandas-bears\\2. test\\pandas\"\n",
    "test_pandas_imgs = []\n",
    "for img in os.listdir(test_pandas_dir):\n",
    "    img_path = os.path.join(test_pandas_dir, img)\n",
    "    test_pandas_img = Image.open(img_path, 'r')\n",
    "    test_pandas_imgs.append(test_pandas_img)\n",
    "\n",
    "test_pandas_data = np.array(test_pandas_imgs)"
   ]
  },
  {
   "cell_type": "markdown",
   "id": "0bc7efc6",
   "metadata": {},
   "source": [
    "#### Combine"
   ]
  },
  {
   "cell_type": "code",
   "execution_count": 7,
   "id": "dd932bb4",
   "metadata": {},
   "outputs": [],
   "source": [
    "X_train = np.concatenate((train_pandas_data, train_bears_data), axis = 0)\n",
    "X_test = np.concatenate((test_pandas_data, test_bears_data), axis = 0)\n",
    "\n",
    "X_train = X_train / X_train.max()\n",
    "X_test = X_test / X_test.max()"
   ]
  },
  {
   "cell_type": "markdown",
   "id": "0e425398",
   "metadata": {},
   "source": [
    "_Let Pandas be 0 & Bears be 1._"
   ]
  },
  {
   "cell_type": "code",
   "execution_count": 8,
   "id": "986b3aa6",
   "metadata": {},
   "outputs": [],
   "source": [
    "train_lab_p = np.zeros(train_pandas_data.shape[0])\n",
    "train_lab_b = np.ones(train_bears_data.shape[0])\n",
    "\n",
    "test_lab_p = np.zeros(test_pandas_data.shape[0])\n",
    "test_lab_b = np.zeros(test_bears_data.shape[0])"
   ]
  },
  {
   "cell_type": "code",
   "execution_count": 9,
   "id": "abe36918",
   "metadata": {},
   "outputs": [],
   "source": [
    "y_train = np.concatenate((train_lab_p, train_lab_b), axis = 0)\n",
    "y_test = np.concatenate((test_lab_p, test_lab_b), axis = 0)"
   ]
  },
  {
   "cell_type": "markdown",
   "id": "fea6764f",
   "metadata": {},
   "source": [
    "#### Convert np array to torch tensor"
   ]
  },
  {
   "cell_type": "code",
   "execution_count": 10,
   "id": "50ea8cc7",
   "metadata": {},
   "outputs": [],
   "source": [
    "import torch"
   ]
  },
  {
   "cell_type": "markdown",
   "id": "00046b61",
   "metadata": {},
   "source": [
    "#### Get GPU"
   ]
  },
  {
   "cell_type": "code",
   "execution_count": 11,
   "id": "ed517542",
   "metadata": {},
   "outputs": [
    {
     "name": "stdout",
     "output_type": "stream",
     "text": [
      "cuda\n"
     ]
    }
   ],
   "source": [
    "device = torch.device(\"cuda\" if torch.cuda.is_available() else \"cpu\")\n",
    "print(device)"
   ]
  },
  {
   "cell_type": "code",
   "execution_count": 12,
   "id": "37c35963",
   "metadata": {},
   "outputs": [],
   "source": [
    "X_train = torch.from_numpy(X_train).float()\n",
    "X_test = torch.from_numpy(X_test).float()\n",
    "\n",
    "y_train = torch.from_numpy(y_train).float()\n",
    "y_test = torch.from_numpy(y_test).float()"
   ]
  },
  {
   "cell_type": "code",
   "execution_count": 13,
   "id": "d25db5f3",
   "metadata": {},
   "outputs": [
    {
     "data": {
      "text/plain": [
       "torch.Size([500])"
      ]
     },
     "execution_count": 13,
     "metadata": {},
     "output_type": "execute_result"
    }
   ],
   "source": [
    "y_train.shape"
   ]
  },
  {
   "cell_type": "code",
   "execution_count": 14,
   "id": "d73e6c3c",
   "metadata": {},
   "outputs": [],
   "source": [
    "X_train = X_train.permute(0, 3, 1, 2)\n",
    "X_test = X_test.permute(0, 3, 1, 2)"
   ]
  },
  {
   "cell_type": "code",
   "execution_count": 15,
   "id": "71238f30",
   "metadata": {},
   "outputs": [
    {
     "name": "stdout",
     "output_type": "stream",
     "text": [
      "Training data shape: torch.Size([500, 3, 256, 256])\n",
      "Testing data shape: torch.Size([100, 3, 256, 256])\n",
      "\n",
      "Training labels shape: torch.Size([500])\n",
      "Testing labels shape: torch.Size([100])\n"
     ]
    }
   ],
   "source": [
    "print(f\"Training data shape: {X_train.shape}\")\n",
    "print(f\"Testing data shape: {X_test.shape}\")\n",
    "print()\n",
    "print(f\"Training labels shape: {y_train.shape}\")\n",
    "print(f\"Testing labels shape: {y_test.shape}\")"
   ]
  },
  {
   "cell_type": "markdown",
   "id": "5673d781",
   "metadata": {},
   "source": [
    "#### Model definitions & stuff"
   ]
  },
  {
   "cell_type": "code",
   "execution_count": 16,
   "id": "97ab3570",
   "metadata": {},
   "outputs": [],
   "source": [
    "import torch\n",
    "import torch.nn as nn\n",
    "import torch.nn.functional as F"
   ]
  },
  {
   "cell_type": "code",
   "execution_count": 31,
   "id": "ce9fa10a",
   "metadata": {},
   "outputs": [],
   "source": [
    "class CNN(nn.Module):\n",
    "\n",
    "    def __init__(self):\n",
    "        super().__init__()\n",
    "\n",
    "        self.conv = nn.Conv2d(3, 32, kernel_size = 3, padding = 1)  \n",
    "        self.pool = nn.MaxPool2d(2, 2) \n",
    "        self.fc1 = nn.Linear(32 * 128 * 128, 16)\n",
    "        self.fc2 = nn.Linear(16, 2)\n",
    "        \n",
    "        self.dropout = nn.Dropout(0.5)\n",
    "    \n",
    "    def forward(self, x):\n",
    "        x = self.pool(F.relu(self.conv(x)))  \n",
    "        x = torch.flatten(x, 1)\n",
    "        x = F.relu(self.fc1(x))\n",
    "        x = self.dropout(x)\n",
    "        x = torch.sigmoid(self.fc2(x)) \n",
    "        \n",
    "        return x\n",
    "\n",
    "cnn = CNN().to(device)"
   ]
  },
  {
   "cell_type": "code",
   "execution_count": 32,
   "id": "59d7507e",
   "metadata": {},
   "outputs": [],
   "source": [
    "import torch.optim as optim"
   ]
  },
  {
   "cell_type": "code",
   "execution_count": 33,
   "id": "8f304c9e",
   "metadata": {},
   "outputs": [],
   "source": [
    "criterion = nn.CrossEntropyLoss()\n",
    "optimizer = optim.Adam(cnn.parameters(), lr = 0.001)"
   ]
  },
  {
   "cell_type": "markdown",
   "id": "53551a3d",
   "metadata": {},
   "source": [
    "#### Model training"
   ]
  },
  {
   "cell_type": "code",
   "execution_count": 38,
   "id": "a0376edb",
   "metadata": {},
   "outputs": [
    {
     "name": "stdout",
     "output_type": "stream",
     "text": [
      "Epoch [1/10], Loss: 0.0446\n",
      "Epoch [2/10], Loss: 0.0440\n",
      "Epoch [3/10], Loss: 0.0453\n",
      "Epoch [4/10], Loss: 0.0439\n",
      "Epoch [5/10], Loss: 0.0443\n",
      "Epoch [6/10], Loss: 0.0446\n",
      "Epoch [7/10], Loss: 0.0445\n",
      "Epoch [8/10], Loss: 0.0444\n",
      "Epoch [9/10], Loss: 0.0444\n",
      "Epoch [10/10], Loss: 0.0443\n"
     ]
    }
   ],
   "source": [
    "batch_size = 16\n",
    "num_epochs = 10\n",
    "\n",
    "for epoch in range(num_epochs):\n",
    "    cnn.train()\n",
    "    total_loss = 0\n",
    "\n",
    "    for i in range(0, len(X_train), batch_size):\n",
    "        batch_data = X_train[i:i + batch_size]  \n",
    "        batch_labels = y_train[i:i + batch_size]\n",
    "\n",
    "        batch_data = batch_data.to(device)\n",
    "        batch_labels = batch_labels.to(device).long()\n",
    "\n",
    "        optimizer.zero_grad()\n",
    "\n",
    "        outputs = cnn(batch_data)\n",
    "        loss = criterion(outputs, batch_labels)\n",
    "\n",
    "        loss.backward()\n",
    "        optimizer.step()\n",
    "\n",
    "        total_loss += loss.item()\n",
    "    \n",
    "    print(f'Epoch [{epoch+1}/{num_epochs}], Loss: {total_loss/len(X_train):.4f}')"
   ]
  },
  {
   "cell_type": "code",
   "execution_count": 39,
   "id": "3bff042e",
   "metadata": {},
   "outputs": [
    {
     "name": "stdout",
     "output_type": "stream",
     "text": [
      "Train Accuracy: 50.00%\n",
      "Test Accuracy: 100.00%\n"
     ]
    }
   ],
   "source": [
    "def calculate_accuracy(model, X, y, device, batch_size = 16):\n",
    "    model.eval()\n",
    "    correct = 0\n",
    "    total = 0\n",
    "    \n",
    "    with torch.no_grad():\n",
    "        for i in range(0, len(X), batch_size):\n",
    "            batch_data = X[i:i + batch_size]\n",
    "            batch_labels = y[i:i + batch_size]\n",
    "            \n",
    "            batch_data = batch_data.to(device)\n",
    "            batch_labels = batch_labels.to(device).long()\n",
    "            \n",
    "            outputs = model(batch_data)\n",
    "            _, predicted = torch.max(outputs, 1)\n",
    "            \n",
    "            total += batch_labels.size(0)\n",
    "            correct += (predicted == batch_labels).sum().item()\n",
    "    \n",
    "    return 100 * correct / total\n",
    "\n",
    "train_acc = calculate_accuracy(cnn, X_train, y_train, device)\n",
    "test_acc = calculate_accuracy(cnn, X_test, y_test, device)\n",
    "print(f'Train Accuracy: {train_acc:.2f}%')\n",
    "print(f'Test Accuracy: {test_acc:.2f}%')"
   ]
  }
 ],
 "metadata": {
  "kernelspec": {
   "display_name": "dl-lab",
   "language": "python",
   "name": "python3"
  },
  "language_info": {
   "codemirror_mode": {
    "name": "ipython",
    "version": 3
   },
   "file_extension": ".py",
   "mimetype": "text/x-python",
   "name": "python",
   "nbconvert_exporter": "python",
   "pygments_lexer": "ipython3",
   "version": "3.12.11"
  }
 },
 "nbformat": 4,
 "nbformat_minor": 5
}
