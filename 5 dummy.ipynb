{
 "cells": [
  {
   "cell_type": "code",
   "execution_count": 1,
   "id": "b31ec791",
   "metadata": {},
   "outputs": [],
   "source": [
    "import numpy as np"
   ]
  },
  {
   "cell_type": "code",
   "execution_count": 7,
   "id": "a8159020",
   "metadata": {},
   "outputs": [
    {
     "name": "stdout",
     "output_type": "stream",
     "text": [
      "(1, 4)\n"
     ]
    }
   ],
   "source": [
    "a = 1\n",
    "b = 2\n",
    "c = np.array([[1],\n",
    "              [2],\n",
    "              [3],\n",
    "              [4]])\n",
    "d = np.array([[1, 2, 3, 4]])\n",
    "print(d.shape)"
   ]
  },
  {
   "cell_type": "code",
   "execution_count": 9,
   "id": "76fde8e1",
   "metadata": {},
   "outputs": [],
   "source": [
    "e = np.dot(c, d)"
   ]
  },
  {
   "cell_type": "code",
   "execution_count": 11,
   "id": "55b1fa4a",
   "metadata": {},
   "outputs": [
    {
     "data": {
      "text/plain": [
       "array([[ 2,  4,  6,  8],\n",
       "       [ 4,  8, 12, 16],\n",
       "       [ 6, 12, 18, 24],\n",
       "       [ 8, 16, 24, 32]])"
      ]
     },
     "execution_count": 11,
     "metadata": {},
     "output_type": "execute_result"
    }
   ],
   "source": [
    "e * a * b"
   ]
  },
  {
   "cell_type": "code",
   "execution_count": 1,
   "id": "e0181d54",
   "metadata": {},
   "outputs": [
    {
     "data": {
      "text/plain": [
       "4.335"
      ]
     },
     "execution_count": 1,
     "metadata": {},
     "output_type": "execute_result"
    }
   ],
   "source": [
    "0.99+1+(0.73*0.5)+1.98"
   ]
  },
  {
   "cell_type": "code",
   "execution_count": 2,
   "id": "b3755f89",
   "metadata": {},
   "outputs": [
    {
     "data": {
      "text/plain": [
       "0.995"
      ]
     },
     "execution_count": 2,
     "metadata": {},
     "output_type": "execute_result"
    }
   ],
   "source": [
    "(0.5*0.99)+0.5"
   ]
  },
  {
   "cell_type": "code",
   "execution_count": 5,
   "id": "248b3025",
   "metadata": {},
   "outputs": [],
   "source": [
    "import numpy as np"
   ]
  },
  {
   "cell_type": "code",
   "execution_count": 6,
   "id": "68f595f3",
   "metadata": {},
   "outputs": [],
   "source": [
    "def sigmoid(x):\n",
    "    return 1 / (1 + np.exp(-x))"
   ]
  },
  {
   "cell_type": "code",
   "execution_count": 8,
   "id": "95750e8b",
   "metadata": {},
   "outputs": [
    {
     "data": {
      "text/plain": [
       "np.float64(0.8802711097107355)"
      ]
     },
     "execution_count": 8,
     "metadata": {},
     "output_type": "execute_result"
    }
   ],
   "source": [
    "sigmoid(1.995)"
   ]
  },
  {
   "cell_type": "code",
   "execution_count": 9,
   "id": "50763ba7",
   "metadata": {},
   "outputs": [
    {
     "data": {
      "text/plain": [
       "4.63"
      ]
     },
     "execution_count": 9,
     "metadata": {},
     "output_type": "execute_result"
    }
   ],
   "source": [
    "(2*0.995) + (3*0.88)"
   ]
  },
  {
   "cell_type": "code",
   "execution_count": 10,
   "id": "6f94c449",
   "metadata": {},
   "outputs": [
    {
     "data": {
      "text/plain": [
       "np.float64(0.9964242564975777)"
      ]
     },
     "execution_count": 10,
     "metadata": {},
     "output_type": "execute_result"
    }
   ],
   "source": [
    "sigmoid(5.63)"
   ]
  },
  {
   "cell_type": "code",
   "execution_count": 16,
   "id": "6873abee",
   "metadata": {},
   "outputs": [
    {
     "data": {
      "text/plain": [
       "np.float64(0.496008)"
      ]
     },
     "execution_count": 16,
     "metadata": {},
     "output_type": "execute_result"
    }
   ],
   "source": [
    "(np.power((0 - 0.996), 2))/2"
   ]
  },
  {
   "cell_type": "code",
   "execution_count": 13,
   "id": "81dad1ba",
   "metadata": {},
   "outputs": [
    {
     "data": {
      "text/plain": [
       "0.0040000000000000036"
      ]
     },
     "execution_count": 13,
     "metadata": {},
     "output_type": "execute_result"
    }
   ],
   "source": [
    "1-0.996"
   ]
  },
  {
   "cell_type": "code",
   "execution_count": 15,
   "id": "11700e15",
   "metadata": {},
   "outputs": [
    {
     "data": {
      "text/plain": [
       "8e-06"
      ]
     },
     "execution_count": 15,
     "metadata": {},
     "output_type": "execute_result"
    }
   ],
   "source": [
    "(0.004*0.004)/2"
   ]
  },
  {
   "cell_type": "code",
   "execution_count": 19,
   "id": "892e49a2",
   "metadata": {},
   "outputs": [
    {
     "data": {
      "text/plain": [
       "0.031872"
      ]
     },
     "execution_count": 19,
     "metadata": {},
     "output_type": "execute_result"
    }
   ],
   "source": [
    "0.996*0.032"
   ]
  },
  {
   "cell_type": "code",
   "execution_count": 21,
   "id": "a0af53a5",
   "metadata": {},
   "outputs": [
    {
     "data": {
      "text/plain": [
       "0.1056"
      ]
     },
     "execution_count": 21,
     "metadata": {},
     "output_type": "execute_result"
    }
   ],
   "source": [
    "0.88*(1-0.88)"
   ]
  },
  {
   "cell_type": "code",
   "execution_count": 23,
   "id": "47aad56a",
   "metadata": {},
   "outputs": [
    {
     "data": {
      "text/plain": [
       "0.010017000000000002"
      ]
     },
     "execution_count": 23,
     "metadata": {},
     "output_type": "execute_result"
    }
   ],
   "source": [
    "0.0318 * 3 * 0.105"
   ]
  },
  {
   "cell_type": "code",
   "execution_count": 29,
   "id": "9c3a2628",
   "metadata": {},
   "outputs": [
    {
     "data": {
      "text/plain": [
       "0.005"
      ]
     },
     "execution_count": 29,
     "metadata": {},
     "output_type": "execute_result"
    }
   ],
   "source": [
    "0.01*0.5"
   ]
  },
  {
   "cell_type": "code",
   "execution_count": null,
   "id": "ace057f7",
   "metadata": {},
   "outputs": [],
   "source": []
  }
 ],
 "metadata": {
  "kernelspec": {
   "display_name": "dl-lab",
   "language": "python",
   "name": "python3"
  },
  "language_info": {
   "codemirror_mode": {
    "name": "ipython",
    "version": 3
   },
   "file_extension": ".py",
   "mimetype": "text/x-python",
   "name": "python",
   "nbconvert_exporter": "python",
   "pygments_lexer": "ipython3",
   "version": "3.12.11"
  }
 },
 "nbformat": 4,
 "nbformat_minor": 5
}
