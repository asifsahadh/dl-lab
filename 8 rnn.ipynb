{
 "cells": [
  {
   "cell_type": "markdown",
   "id": "05c91cde",
   "metadata": {},
   "source": [
    "### __RNN | Mohammed Asif Sahadh - 24MSD7061__"
   ]
  },
  {
   "cell_type": "markdown",
   "id": "13fee54f",
   "metadata": {},
   "source": [
    "Yet to do..."
   ]
  }
 ],
 "metadata": {
  "kernelspec": {
   "display_name": "py310",
   "language": "python",
   "name": "python3"
  },
  "language_info": {
   "name": "python",
   "version": "3.10.15"
  }
 },
 "nbformat": 4,
 "nbformat_minor": 5
}
