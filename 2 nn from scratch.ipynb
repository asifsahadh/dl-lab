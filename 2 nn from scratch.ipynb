{
 "cells": [
  {
   "cell_type": "markdown",
   "id": "23f57a4b",
   "metadata": {},
   "source": [
    "### Forward Propagation & Backpropagation"
   ]
  },
  {
   "cell_type": "code",
   "execution_count": 1,
   "id": "893c59df",
   "metadata": {},
   "outputs": [],
   "source": [
    "import torch"
   ]
  },
  {
   "cell_type": "markdown",
   "id": "484a80f5",
   "metadata": {},
   "source": [
    "---"
   ]
  },
  {
   "cell_type": "markdown",
   "id": "0546bf7a",
   "metadata": {},
   "source": [
    "Initialization: A simple neural net with 4 input neurons, 1 hidden layer with 3 neurons and 1 output neuron"
   ]
  },
  {
   "cell_type": "code",
   "execution_count": 2,
   "id": "fac5d491",
   "metadata": {},
   "outputs": [],
   "source": [
    "n_input = 4\n",
    "n_neurons_hidden_one = 3\n",
    "n_output = 1"
   ]
  },
  {
   "cell_type": "code",
   "execution_count": 3,
   "id": "8c818e42",
   "metadata": {},
   "outputs": [],
   "source": [
    "X = torch.tensor([[0.9], [0.8], [0.7], [0.6]])\n",
    "W1 = torch.rand(n_input, n_neurons_hidden_one)\n",
    "W2 = torch.rand(n_neurons_hidden_one, n_output)"
   ]
  },
  {
   "cell_type": "code",
   "execution_count": 12,
   "id": "c7a00d64",
   "metadata": {},
   "outputs": [
    {
     "name": "stdout",
     "output_type": "stream",
     "text": [
      "Input sample data with 4 features (4x1):\n",
      "tensor([[0.9000],\n",
      "        [0.8000],\n",
      "        [0.7000],\n",
      "        [0.6000]])\n",
      "\n",
      "First weight matrix (4x3):\n",
      "tensor([[0.6915, 0.2038, 0.1092],\n",
      "        [0.8664, 0.2407, 0.9444],\n",
      "        [0.9586, 0.5905, 0.4535],\n",
      "        [0.4292, 0.7313, 0.8132]])\n",
      "\n",
      "Second weight matrix (3x1):\n",
      "tensor([[0.9415],\n",
      "        [0.9888],\n",
      "        [0.9888]])\n",
      "\n"
     ]
    }
   ],
   "source": [
    "print(f'Input sample data with 4 features (4x1):\\n{X}\\n')\n",
    "print(f'First weight matrix (4x3):\\n{W1}\\n')\n",
    "print(f'Second weight matrix (3x1):\\n{W2}\\n')"
   ]
  },
  {
   "cell_type": "markdown",
   "id": "9b8c49e8",
   "metadata": {},
   "source": [
    "Forward Propagation"
   ]
  },
  {
   "cell_type": "code",
   "execution_count": 14,
   "id": "c5ec499a",
   "metadata": {},
   "outputs": [],
   "source": [
    "def sigmoid(z):\n",
    "    return 1 / (1 + torch.exp(-z))"
   ]
  },
  {
   "cell_type": "code",
   "execution_count": 15,
   "id": "1b9d98ca",
   "metadata": {},
   "outputs": [],
   "source": [
    "Z = W1.t().matmul(X) \n",
    "H = sigmoid(Z) \n",
    "O = H.t().matmul(W2)\n",
    "Y_cap = sigmoid(O)"
   ]
  },
  {
   "cell_type": "code",
   "execution_count": 22,
   "id": "2e1c6a68",
   "metadata": {},
   "outputs": [
    {
     "name": "stdout",
     "output_type": "stream",
     "text": [
      "Initial output from the randomly initialized weights:\n",
      "tensor([[0.9203]])\n"
     ]
    }
   ],
   "source": [
    "print(f'Initial output from the randomly initialized weights:\\n{Y_cap}')"
   ]
  },
  {
   "cell_type": "markdown",
   "id": "305520c8",
   "metadata": {},
   "source": [
    "Error Calculation"
   ]
  },
  {
   "cell_type": "code",
   "execution_count": 24,
   "id": "4634bc9c",
   "metadata": {},
   "outputs": [
    {
     "name": "stdout",
     "output_type": "stream",
     "text": [
      "Initial error:\n",
      "tensor([[0.8470]])\n"
     ]
    }
   ],
   "source": [
    "Y = 0\n",
    "E = torch.pow(Y - Y_cap, 2)\n",
    "print(f'Initial error:\\n{E}')"
   ]
  },
  {
   "cell_type": "markdown",
   "id": "5706f65b",
   "metadata": {},
   "source": [
    "Backpropagation"
   ]
  },
  {
   "cell_type": "code",
   "execution_count": 26,
   "id": "4a976587",
   "metadata": {},
   "outputs": [],
   "source": [
    "def sigmoid_grad(x):\n",
    "    return x * (1 - x)"
   ]
  },
  {
   "cell_type": "code",
   "execution_count": 27,
   "id": "a5a9f8dc",
   "metadata": {},
   "outputs": [],
   "source": [
    "dE_dY_cap = -2 * (Y - Y_cap)\n",
    "dY_cap_dO = sigmoid_grad(Y_cap)\n",
    "dO_dW2 = H\n",
    "\n",
    "dE_dW2 = dE_dY_cap * dY_cap_dO * dO_dW2"
   ]
  },
  {
   "cell_type": "code",
   "execution_count": 32,
   "id": "ed2d69b7",
   "metadata": {},
   "outputs": [
    {
     "name": "stdout",
     "output_type": "stream",
     "text": [
      "Gradient of weight matrix two w.r.t error:\n",
      "tensor([[0.1220],\n",
      "        [0.1044],\n",
      "        [0.1134]])\n"
     ]
    }
   ],
   "source": [
    "print(f'Gradient of weight matrix two w.r.t error:\\n{dE_dW2}')"
   ]
  },
  {
   "cell_type": "code",
   "execution_count": 28,
   "id": "f9bb83f9",
   "metadata": {},
   "outputs": [],
   "source": [
    "dO_dH = W2\n",
    "dH_dZ = sigmoid_grad(H)\n",
    "dZ_dW1 = X\n",
    "\n",
    "dE_dW1 = dE_dW2 * dO_dH * dH_dZ * dZ_dW1.t()"
   ]
  },
  {
   "cell_type": "code",
   "execution_count": 34,
   "id": "fc2b1a6e",
   "metadata": {},
   "outputs": [
    {
     "name": "stdout",
     "output_type": "stream",
     "text": [
      "Gradient of weight matrix one w.r.t error:\n",
      "tensor([[0.0090, 0.0163, 0.0136],\n",
      "        [0.0080, 0.0145, 0.0120],\n",
      "        [0.0070, 0.0127, 0.0105],\n",
      "        [0.0060, 0.0109, 0.0090]])\n"
     ]
    }
   ],
   "source": [
    "print(f'Gradient of weight matrix one w.r.t error:\\n{dE_dW1.t()}')"
   ]
  },
  {
   "cell_type": "markdown",
   "id": "df261a7a",
   "metadata": {},
   "source": [
    "Parameter Updation"
   ]
  },
  {
   "cell_type": "code",
   "execution_count": 29,
   "id": "d7847d8e",
   "metadata": {},
   "outputs": [],
   "source": [
    "W2_new = W2 - 0.1 * dE_dW2\n",
    "W1_new = W1 - 0.1 * dE_dW1.t()"
   ]
  },
  {
   "cell_type": "markdown",
   "id": "076c4aa2",
   "metadata": {},
   "source": [
    "Forward propapagtion with updated weights"
   ]
  },
  {
   "cell_type": "code",
   "execution_count": 30,
   "id": "44d6b7ee",
   "metadata": {},
   "outputs": [],
   "source": [
    "Z = W1_new.t().matmul(X) \n",
    "H = sigmoid(Z) \n",
    "O = H.t().matmul(W2_new)\n",
    "Y_cap = sigmoid(O)"
   ]
  },
  {
   "cell_type": "code",
   "execution_count": 31,
   "id": "6cbc0fa3",
   "metadata": {},
   "outputs": [
    {
     "name": "stdout",
     "output_type": "stream",
     "text": [
      "New output from updated set of weights:\n",
      "tensor([[0.9181]])\n"
     ]
    }
   ],
   "source": [
    "print(f'New output from updated set of weights:\\n{Y_cap}')"
   ]
  }
 ],
 "metadata": {
  "kernelspec": {
   "display_name": "dl-lab",
   "language": "python",
   "name": "python3"
  },
  "language_info": {
   "codemirror_mode": {
    "name": "ipython",
    "version": 3
   },
   "file_extension": ".py",
   "mimetype": "text/x-python",
   "name": "python",
   "nbconvert_exporter": "python",
   "pygments_lexer": "ipython3",
   "version": "3.12.11"
  }
 },
 "nbformat": 4,
 "nbformat_minor": 5
}
