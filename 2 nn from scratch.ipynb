{
 "cells": [
  {
   "cell_type": "markdown",
   "id": "23f57a4b",
   "metadata": {},
   "source": [
    "### Forward Propagation & Backpropagation"
   ]
  },
  {
   "cell_type": "code",
   "execution_count": 1,
   "id": "893c59df",
   "metadata": {},
   "outputs": [],
   "source": [
    "import torch\n",
    "import matplotlib.pyplot as plt"
   ]
  },
  {
   "cell_type": "markdown",
   "id": "484a80f5",
   "metadata": {},
   "source": [
    "---"
   ]
  },
  {
   "cell_type": "markdown",
   "id": "0546bf7a",
   "metadata": {},
   "source": [
    "Initialization: A simple neural net with 4 input neurons, 1 hidden layer with 3 neurons and 1 output neuron"
   ]
  },
  {
   "cell_type": "code",
   "execution_count": 2,
   "id": "fac5d491",
   "metadata": {},
   "outputs": [],
   "source": [
    "n_input = 4\n",
    "n_neurons_hidden_one = 3\n",
    "n_output = 1"
   ]
  },
  {
   "cell_type": "code",
   "execution_count": 3,
   "id": "8c818e42",
   "metadata": {},
   "outputs": [],
   "source": [
    "X = torch.tensor([[0.9], [0.8], [0.7], [0.6]])\n",
    "W1 = torch.rand(n_input, n_neurons_hidden_one)\n",
    "W2 = torch.rand(n_neurons_hidden_one, n_output)"
   ]
  },
  {
   "cell_type": "code",
   "execution_count": 4,
   "id": "c7a00d64",
   "metadata": {},
   "outputs": [
    {
     "name": "stdout",
     "output_type": "stream",
     "text": [
      "Input sample data with 4 features (4x1):\n",
      "tensor([[0.9000],\n",
      "        [0.8000],\n",
      "        [0.7000],\n",
      "        [0.6000]])\n",
      "\n",
      "First weight matrix (4x3):\n",
      "tensor([[0.2991, 0.8217, 0.3769],\n",
      "        [0.9838, 0.0340, 0.8956],\n",
      "        [0.9728, 0.3386, 0.3821],\n",
      "        [0.5464, 0.4259, 0.6075]])\n",
      "\n",
      "Second weight matrix (3x1):\n",
      "tensor([[0.3389],\n",
      "        [0.7874],\n",
      "        [0.9845]])\n",
      "\n"
     ]
    }
   ],
   "source": [
    "print(f'Input sample data with 4 features (4x1):\\n{X}\\n')\n",
    "print(f'First weight matrix (4x3):\\n{W1}\\n')\n",
    "print(f'Second weight matrix (3x1):\\n{W2}\\n')"
   ]
  },
  {
   "cell_type": "markdown",
   "id": "9b8c49e8",
   "metadata": {},
   "source": [
    "Forward Propagation"
   ]
  },
  {
   "cell_type": "code",
   "execution_count": 5,
   "id": "c5ec499a",
   "metadata": {},
   "outputs": [],
   "source": [
    "def sigmoid(z):\n",
    "    return 1 / (1 + torch.exp(-z))"
   ]
  },
  {
   "cell_type": "code",
   "execution_count": 6,
   "id": "1b9d98ca",
   "metadata": {},
   "outputs": [],
   "source": [
    "Z = W1.t().matmul(X) \n",
    "H = sigmoid(Z) \n",
    "O = H.t().matmul(W2)\n",
    "Y_cap = sigmoid(O)"
   ]
  },
  {
   "cell_type": "code",
   "execution_count": 7,
   "id": "2e1c6a68",
   "metadata": {},
   "outputs": [
    {
     "name": "stdout",
     "output_type": "stream",
     "text": [
      "Initial output from the randomly initialized weights:\n",
      "tensor([[0.8513]])\n"
     ]
    }
   ],
   "source": [
    "print(f'Initial output from the randomly initialized weights:\\n{Y_cap}')"
   ]
  },
  {
   "cell_type": "markdown",
   "id": "305520c8",
   "metadata": {},
   "source": [
    "Error Calculation"
   ]
  },
  {
   "cell_type": "code",
   "execution_count": 8,
   "id": "4634bc9c",
   "metadata": {},
   "outputs": [
    {
     "name": "stdout",
     "output_type": "stream",
     "text": [
      "Initial error:\n",
      "tensor([[0.7247]])\n"
     ]
    }
   ],
   "source": [
    "Y = 0\n",
    "E = torch.pow(Y - Y_cap, 2)\n",
    "print(f'Initial error:\\n{E}')"
   ]
  },
  {
   "cell_type": "markdown",
   "id": "5706f65b",
   "metadata": {},
   "source": [
    "Backpropagation"
   ]
  },
  {
   "cell_type": "code",
   "execution_count": 9,
   "id": "4a976587",
   "metadata": {},
   "outputs": [],
   "source": [
    "def sigmoid_grad(x):\n",
    "    return x * (1 - x)"
   ]
  },
  {
   "cell_type": "code",
   "execution_count": 10,
   "id": "a5a9f8dc",
   "metadata": {},
   "outputs": [],
   "source": [
    "dE_dY_cap = -2 * (Y - Y_cap)\n",
    "dY_cap_dO = sigmoid_grad(Y_cap)\n",
    "dO_dW2 = H\n",
    "\n",
    "dE_dW2 = dE_dY_cap * dY_cap_dO * dO_dW2"
   ]
  },
  {
   "cell_type": "code",
   "execution_count": 11,
   "id": "ed2d69b7",
   "metadata": {},
   "outputs": [
    {
     "name": "stdout",
     "output_type": "stream",
     "text": [
      "Gradient of weight matrix two w.r.t error:\n",
      "tensor([[0.1913],\n",
      "        [0.1679],\n",
      "        [0.1819]])\n"
     ]
    }
   ],
   "source": [
    "print(f'Gradient of weight matrix two w.r.t error:\\n{dE_dW2}')"
   ]
  },
  {
   "cell_type": "code",
   "execution_count": 12,
   "id": "f9bb83f9",
   "metadata": {},
   "outputs": [],
   "source": [
    "dO_dH = W2\n",
    "dH_dZ = sigmoid_grad(H)\n",
    "dZ_dW1 = X\n",
    "\n",
    "dE_dW1 = dE_dW2 * dO_dH * dH_dZ * dZ_dW1.t()"
   ]
  },
  {
   "cell_type": "code",
   "execution_count": 13,
   "id": "fc2b1a6e",
   "metadata": {},
   "outputs": [
    {
     "name": "stdout",
     "output_type": "stream",
     "text": [
      "Gradient of weight matrix one w.r.t error:\n",
      "tensor([[0.0058, 0.0205, 0.0212],\n",
      "        [0.0052, 0.0182, 0.0189],\n",
      "        [0.0045, 0.0159, 0.0165],\n",
      "        [0.0039, 0.0137, 0.0142]])\n"
     ]
    }
   ],
   "source": [
    "print(f'Gradient of weight matrix one w.r.t error:\\n{dE_dW1.t()}')"
   ]
  },
  {
   "cell_type": "markdown",
   "id": "df261a7a",
   "metadata": {},
   "source": [
    "Parameter Updation"
   ]
  },
  {
   "cell_type": "code",
   "execution_count": 14,
   "id": "d7847d8e",
   "metadata": {},
   "outputs": [],
   "source": [
    "W2_new = W2 - 0.1 * dE_dW2\n",
    "W1_new = W1 - 0.1 * dE_dW1.t()"
   ]
  },
  {
   "cell_type": "markdown",
   "id": "076c4aa2",
   "metadata": {},
   "source": [
    "Forward propapagtion with updated weights"
   ]
  },
  {
   "cell_type": "code",
   "execution_count": 15,
   "id": "44d6b7ee",
   "metadata": {},
   "outputs": [],
   "source": [
    "Z = W1_new.t().matmul(X) \n",
    "H = sigmoid(Z) \n",
    "O = H.t().matmul(W2_new)\n",
    "Y_cap = sigmoid(O)"
   ]
  },
  {
   "cell_type": "code",
   "execution_count": 16,
   "id": "6cbc0fa3",
   "metadata": {},
   "outputs": [
    {
     "name": "stdout",
     "output_type": "stream",
     "text": [
      "New output from updated set of weights:\n",
      "tensor([[0.8453]])\n"
     ]
    }
   ],
   "source": [
    "print(f'New output from updated set of weights:\\n{Y_cap}')"
   ]
  },
  {
   "cell_type": "markdown",
   "id": "bbc1d75b",
   "metadata": {},
   "source": [
    "---"
   ]
  },
  {
   "cell_type": "markdown",
   "id": "61ef2e1a",
   "metadata": {},
   "source": [
    "Training loop"
   ]
  },
  {
   "cell_type": "code",
   "execution_count": 17,
   "id": "82b55456",
   "metadata": {},
   "outputs": [
    {
     "name": "stdout",
     "output_type": "stream",
     "text": [
      "tensor([[0.7247]])\n",
      "tensor([[0.7145]])\n",
      "tensor([[0.7038]])\n",
      "tensor([[0.6925]])\n",
      "tensor([[0.6807]])\n",
      "tensor([[0.6684]])\n",
      "tensor([[0.6555]])\n",
      "tensor([[0.6420]])\n",
      "tensor([[0.6279]])\n",
      "tensor([[0.6133]])\n",
      "tensor([[0.5981]])\n",
      "tensor([[0.5824]])\n",
      "tensor([[0.5662]])\n",
      "tensor([[0.5495]])\n",
      "tensor([[0.5324]])\n",
      "tensor([[0.5149]])\n",
      "tensor([[0.4971]])\n",
      "tensor([[0.4791]])\n",
      "tensor([[0.4609]])\n",
      "tensor([[0.4427]])\n",
      "tensor([[0.4245]])\n",
      "tensor([[0.4064]])\n",
      "tensor([[0.3885]])\n",
      "tensor([[0.3709]])\n",
      "tensor([[0.3536]])\n",
      "tensor([[0.3368]])\n",
      "tensor([[0.3205]])\n",
      "tensor([[0.3048]])\n",
      "tensor([[0.2896]])\n",
      "tensor([[0.2751]])\n",
      "tensor([[0.2612]])\n",
      "tensor([[0.2480]])\n",
      "tensor([[0.2355]])\n",
      "tensor([[0.2236]])\n",
      "tensor([[0.2124]])\n",
      "tensor([[0.2018]])\n",
      "tensor([[0.1919]])\n",
      "tensor([[0.1825]])\n",
      "tensor([[0.1737]])\n",
      "tensor([[0.1654]])\n",
      "tensor([[0.1577]])\n",
      "tensor([[0.1504]])\n",
      "tensor([[0.1436]])\n",
      "tensor([[0.1372]])\n",
      "tensor([[0.1311]])\n",
      "tensor([[0.1255]])\n",
      "tensor([[0.1202]])\n",
      "tensor([[0.1152]])\n",
      "tensor([[0.1105]])\n",
      "tensor([[0.1061]])\n",
      "tensor([[0.1020]])\n",
      "tensor([[0.0981]])\n",
      "tensor([[0.0944]])\n",
      "tensor([[0.0910]])\n",
      "tensor([[0.0877]])\n",
      "tensor([[0.0846]])\n",
      "tensor([[0.0817]])\n",
      "tensor([[0.0789]])\n",
      "tensor([[0.0763]])\n",
      "tensor([[0.0738]])\n",
      "tensor([[0.0714]])\n",
      "tensor([[0.0692]])\n",
      "tensor([[0.0671]])\n",
      "tensor([[0.0651]])\n",
      "tensor([[0.0631]])\n",
      "tensor([[0.0613]])\n",
      "tensor([[0.0596]])\n",
      "tensor([[0.0579]])\n",
      "tensor([[0.0563]])\n",
      "tensor([[0.0548]])\n",
      "tensor([[0.0534]])\n",
      "tensor([[0.0520]])\n",
      "tensor([[0.0507]])\n",
      "tensor([[0.0494]])\n",
      "tensor([[0.0482]])\n",
      "tensor([[0.0470]])\n",
      "tensor([[0.0459]])\n",
      "tensor([[0.0448]])\n",
      "tensor([[0.0438]])\n",
      "tensor([[0.0428]])\n",
      "tensor([[0.0419]])\n",
      "tensor([[0.0409]])\n",
      "tensor([[0.0401]])\n",
      "tensor([[0.0392]])\n",
      "tensor([[0.0384]])\n",
      "tensor([[0.0376]])\n",
      "tensor([[0.0368]])\n",
      "tensor([[0.0361]])\n",
      "tensor([[0.0354]])\n",
      "tensor([[0.0347]])\n",
      "tensor([[0.0340]])\n",
      "tensor([[0.0334]])\n",
      "tensor([[0.0328]])\n",
      "tensor([[0.0322]])\n",
      "tensor([[0.0316]])\n",
      "tensor([[0.0310]])\n",
      "tensor([[0.0305]])\n",
      "tensor([[0.0300]])\n",
      "tensor([[0.0295]])\n",
      "tensor([[0.0290]])\n",
      "tensor([[0.0285]])\n",
      "tensor([[0.0280]])\n",
      "tensor([[0.0275]])\n",
      "tensor([[0.0271]])\n",
      "tensor([[0.0267]])\n",
      "tensor([[0.0263]])\n",
      "tensor([[0.0259]])\n",
      "tensor([[0.0255]])\n",
      "tensor([[0.0251]])\n",
      "tensor([[0.0247]])\n",
      "tensor([[0.0243]])\n",
      "tensor([[0.0240]])\n",
      "tensor([[0.0236]])\n",
      "tensor([[0.0233]])\n",
      "tensor([[0.0230]])\n",
      "tensor([[0.0227]])\n",
      "tensor([[0.0223]])\n",
      "tensor([[0.0220]])\n",
      "tensor([[0.0217]])\n",
      "tensor([[0.0215]])\n",
      "tensor([[0.0212]])\n",
      "tensor([[0.0209]])\n",
      "tensor([[0.0206]])\n",
      "tensor([[0.0204]])\n",
      "tensor([[0.0201]])\n",
      "tensor([[0.0199]])\n",
      "tensor([[0.0196]])\n",
      "tensor([[0.0194]])\n",
      "tensor([[0.0191]])\n",
      "tensor([[0.0189]])\n",
      "tensor([[0.0187]])\n",
      "tensor([[0.0185]])\n",
      "tensor([[0.0182]])\n",
      "tensor([[0.0180]])\n",
      "tensor([[0.0178]])\n",
      "tensor([[0.0176]])\n",
      "tensor([[0.0174]])\n",
      "tensor([[0.0172]])\n",
      "tensor([[0.0170]])\n",
      "tensor([[0.0169]])\n",
      "tensor([[0.0167]])\n",
      "tensor([[0.0165]])\n",
      "tensor([[0.0163]])\n",
      "tensor([[0.0161]])\n",
      "tensor([[0.0160]])\n",
      "tensor([[0.0158]])\n",
      "tensor([[0.0156]])\n",
      "tensor([[0.0155]])\n",
      "tensor([[0.0153]])\n",
      "tensor([[0.0152]])\n",
      "tensor([[0.0150]])\n",
      "tensor([[0.0149]])\n",
      "tensor([[0.0147]])\n",
      "tensor([[0.0146]])\n",
      "tensor([[0.0144]])\n",
      "tensor([[0.0143]])\n",
      "tensor([[0.0142]])\n",
      "tensor([[0.0140]])\n",
      "tensor([[0.0139]])\n",
      "tensor([[0.0138]])\n",
      "tensor([[0.0137]])\n",
      "tensor([[0.0135]])\n",
      "tensor([[0.0134]])\n",
      "tensor([[0.0133]])\n",
      "tensor([[0.0132]])\n",
      "tensor([[0.0131]])\n",
      "tensor([[0.0129]])\n",
      "tensor([[0.0128]])\n",
      "tensor([[0.0127]])\n",
      "tensor([[0.0126]])\n",
      "tensor([[0.0125]])\n",
      "tensor([[0.0124]])\n",
      "tensor([[0.0123]])\n",
      "tensor([[0.0122]])\n",
      "tensor([[0.0121]])\n",
      "tensor([[0.0120]])\n",
      "tensor([[0.0119]])\n",
      "tensor([[0.0118]])\n",
      "tensor([[0.0117]])\n",
      "tensor([[0.0116]])\n",
      "tensor([[0.0115]])\n",
      "tensor([[0.0114]])\n",
      "tensor([[0.0113]])\n",
      "tensor([[0.0112]])\n",
      "tensor([[0.0112]])\n",
      "tensor([[0.0111]])\n",
      "tensor([[0.0110]])\n",
      "tensor([[0.0109]])\n",
      "tensor([[0.0108]])\n",
      "tensor([[0.0107]])\n",
      "tensor([[0.0107]])\n",
      "tensor([[0.0106]])\n",
      "tensor([[0.0105]])\n",
      "tensor([[0.0104]])\n",
      "tensor([[0.0104]])\n",
      "tensor([[0.0103]])\n",
      "tensor([[0.0102]])\n",
      "tensor([[0.0101]])\n",
      "tensor([[0.0101]])\n",
      "tensor([[0.0100]])\n"
     ]
    }
   ],
   "source": [
    "errors = []\n",
    "\n",
    "for i in range(200):\n",
    "\n",
    "    # forward\n",
    "    Z = W1.t().matmul(X) \n",
    "    H = sigmoid(Z) \n",
    "    O = H.t().matmul(W2)\n",
    "    Y_cap = sigmoid(O)\n",
    "\n",
    "    # error calculation\n",
    "    Y = 0\n",
    "    E = torch.pow(Y - Y_cap, 2)\n",
    "    errors.append(E.item())\n",
    "    print(E)\n",
    "\n",
    "    # backpropagation\n",
    "    dE_dY_cap = -2 * (Y - Y_cap)\n",
    "    dY_cap_dO = sigmoid_grad(Y_cap)\n",
    "    dO_dW2 = H\n",
    "\n",
    "    dE_dW2 = dE_dY_cap * dY_cap_dO * dO_dW2\n",
    "\n",
    "    dO_dH = W2\n",
    "    dH_dZ = sigmoid_grad(H)\n",
    "    dZ_dW1 = X\n",
    "\n",
    "    dE_dW1 = dE_dW2 * dO_dH * dH_dZ * dZ_dW1.t()\n",
    "\n",
    "    # parameter updation\n",
    "    W2 = W2 - 0.1 * dE_dW2\n",
    "    W1 = W1 - 0.1 * dE_dW1.t()"
   ]
  },
  {
   "cell_type": "markdown",
   "id": "47cc8ce5",
   "metadata": {},
   "source": [
    "---"
   ]
  },
  {
   "cell_type": "markdown",
   "id": "bb3327f8",
   "metadata": {},
   "source": [
    "Loss plot"
   ]
  },
  {
   "cell_type": "code",
   "execution_count": 18,
   "id": "a42483cb",
   "metadata": {},
   "outputs": [
    {
     "data": {
      "image/png": "[encoded data removed]",
      "text/plain": [
       "<Figure size 800x500 with 1 Axes>"
      ]
     },
     "metadata": {},
     "output_type": "display_data"
    }
   ],
   "source": [
    "plt.figure(figsize = (8, 5))\n",
    "plt.plot(errors)\n",
    "plt.title(\"Loss Plot\")\n",
    "plt.xlabel('Epochs')\n",
    "plt.ylabel('Loss')\n",
    "plt.show()"
   ]
  }
 ],
 "metadata": {
  "kernelspec": {
   "display_name": "dl-lab",
   "language": "python",
   "name": "python3"
  },
  "language_info": {
   "codemirror_mode": {
    "name": "ipython",
    "version": 3
   },
   "file_extension": ".py",
   "mimetype": "text/x-python",
   "name": "python",
   "nbconvert_exporter": "python",
   "pygments_lexer": "ipython3",
   "version": "3.12.11"
  }
 },
 "nbformat": 4,
 "nbformat_minor": 5
}
