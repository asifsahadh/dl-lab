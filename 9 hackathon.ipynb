{
 "cells": [
  {
   "cell_type": "markdown",
   "id": "eb418541",
   "metadata": {},
   "source": [
    "### __LSTM (Hackathon) | Mohammed Asif Sahadh - 24MSD7061__"
   ]
  },
  {
   "cell_type": "markdown",
   "id": "c81f1c18",
   "metadata": {},
   "source": [
    "Import libraries"
   ]
  },
  {
   "cell_type": "code",
   "execution_count": 26,
   "id": "9a4c43f3",
   "metadata": {},
   "outputs": [],
   "source": [
    "import pandas as pd\n",
    "from sentence_transformers import SentenceTransformer\n",
    "import torch\n",
    "import torch.nn as nn\n",
    "import torch.optim as optim\n",
    "import numpy as np\n",
    "from nltk.corpus import stopwords\n",
    "from collections import Counter\n",
    "from sklearn.model_selection import train_test_split\n",
    "from sklearn.preprocessing import LabelEncoder\n",
    "from torch.utils.data import TensorDataset, DataLoader\n",
    "import time\n",
    "import matplotlib.pyplot as plt"
   ]
  },
  {
   "cell_type": "markdown",
   "id": "ff782698",
   "metadata": {},
   "source": [
    "Get data"
   ]
  },
  {
   "cell_type": "code",
   "execution_count": 2,
   "id": "78715f62",
   "metadata": {},
   "outputs": [],
   "source": [
    "data = pd.read_table(r\"sms-spam-collection\\SMSSpamCollection\")\n",
    "data.rename(columns = {'ham' : 'temp_label', '''Go until jurong point, crazy.. Available only in bugis n great world la e buffet... Cine there got amore wat...''' : 'sms'}, inplace = True)\n",
    "data['temp_label'] = data['temp_label'].astype('category')\n",
    "data['temp_label'] = data['temp_label'].cat.codes # spam:1, ham:0"
   ]
  },
  {
   "cell_type": "code",
   "execution_count": 3,
   "id": "b413b034",
   "metadata": {},
   "outputs": [
    {
     "data": {
      "text/html": [
       "<div>\n",
       "<style scoped>\n",
       "    .dataframe tbody tr th:only-of-type {\n",
       "        vertical-align: middle;\n",
       "    }\n",
       "\n",
       "    .dataframe tbody tr th {\n",
       "        vertical-align: top;\n",
       "    }\n",
       "\n",
       "    .dataframe thead th {\n",
       "        text-align: right;\n",
       "    }\n",
       "</style>\n",
       "<table border=\"1\" class=\"dataframe\">\n",
       "  <thead>\n",
       "    <tr style=\"text-align: right;\">\n",
       "      <th></th>\n",
       "      <th>temp_label</th>\n",
       "      <th>sms</th>\n",
       "    </tr>\n",
       "  </thead>\n",
       "  <tbody>\n",
       "    <tr>\n",
       "      <th>0</th>\n",
       "      <td>0</td>\n",
       "      <td>Ok lar... Joking wif u oni...</td>\n",
       "    </tr>\n",
       "    <tr>\n",
       "      <th>1</th>\n",
       "      <td>1</td>\n",
       "      <td>Free entry in 2 a wkly comp to win FA Cup fina...</td>\n",
       "    </tr>\n",
       "    <tr>\n",
       "      <th>2</th>\n",
       "      <td>0</td>\n",
       "      <td>U dun say so early hor... U c already then say...</td>\n",
       "    </tr>\n",
       "    <tr>\n",
       "      <th>3</th>\n",
       "      <td>0</td>\n",
       "      <td>Nah I don't think he goes to usf, he lives aro...</td>\n",
       "    </tr>\n",
       "    <tr>\n",
       "      <th>4</th>\n",
       "      <td>1</td>\n",
       "      <td>FreeMsg Hey there darling it's been 3 week's n...</td>\n",
       "    </tr>\n",
       "  </tbody>\n",
       "</table>\n",
       "</div>"
      ],
      "text/plain": [
       "   temp_label                                                sms\n",
       "0           0                      Ok lar... Joking wif u oni...\n",
       "1           1  Free entry in 2 a wkly comp to win FA Cup fina...\n",
       "2           0  U dun say so early hor... U c already then say...\n",
       "3           0  Nah I don't think he goes to usf, he lives aro...\n",
       "4           1  FreeMsg Hey there darling it's been 3 week's n..."
      ]
     },
     "execution_count": 3,
     "metadata": {},
     "output_type": "execute_result"
    }
   ],
   "source": [
    "data.head(5)"
   ]
  },
  {
   "cell_type": "markdown",
   "id": "3bc98a58",
   "metadata": {},
   "source": [
    "Set device to GPU"
   ]
  },
  {
   "cell_type": "code",
   "execution_count": 4,
   "id": "d6892781",
   "metadata": {},
   "outputs": [],
   "source": [
    "device = torch.device('cuda:0' if torch.cuda.is_available() else 'cpu')"
   ]
  },
  {
   "cell_type": "markdown",
   "id": "de4192bb",
   "metadata": {},
   "source": [
    "Get vocabulary"
   ]
  },
  {
   "cell_type": "code",
   "execution_count": 5,
   "id": "4467a07f",
   "metadata": {},
   "outputs": [],
   "source": [
    "sms_list = []\n",
    "for sms in data['sms']:\n",
    "    sms_list.append(sms)"
   ]
  },
  {
   "cell_type": "code",
   "execution_count": 6,
   "id": "4174f814",
   "metadata": {},
   "outputs": [],
   "source": [
    "def get_vocabulory(sms_list):\n",
    "    wordList = []\n",
    "\n",
    "    stopWords = set(stopwords.words('english'))\n",
    "    \n",
    "    for sentence in sms_list:\n",
    "        for word in sentence.lower().split():\n",
    "            if word not in stopWords and word != '':\n",
    "                wordList.append(word)\n",
    "\n",
    "    corpus = Counter(wordList)\n",
    "    corpus_ = sorted(corpus,key=corpus.get,reverse=True)[:1000]\n",
    "    onehot_dict = {w:i+1 for i,w in enumerate(corpus_)}\n",
    "    \n",
    "    return onehot_dict\n",
    "\n",
    "sms_vocab = get_vocabulory(sms_list)"
   ]
  },
  {
   "cell_type": "markdown",
   "id": "4eab7674",
   "metadata": {},
   "source": [
    "Data preprocessing & encoding"
   ]
  },
  {
   "cell_type": "code",
   "execution_count": 7,
   "id": "8c682ffc",
   "metadata": {},
   "outputs": [],
   "source": [
    "def preprocess_data(data):\n",
    "    X, y = data.loc[:, 'sms'].values, data.loc[:, 'temp_label'].values\n",
    "    X_train, X_test, y_train, y_test = train_test_split(X, y, test_size = .2, stratify = y)\n",
    "    print(f'X_train {X_train.shape} | X_test {X_test.shape} | y_train {y_train.shape} | y_test {y_test.shape}')\n",
    "    \n",
    "    vocab = get_vocabulory(X_train)\n",
    "    \n",
    "    new_X_train, new_X_test = [], []\n",
    "    \n",
    "    for sentence in X_train:\n",
    "        new_X_train.append([vocab[word] for word in sentence.lower().split() if word in vocab.keys()])\n",
    "        \n",
    "    for sentence in X_test:\n",
    "        new_X_test.append([vocab[word] for word in sentence.lower().split() if word in vocab.keys()])\n",
    "    \n",
    "    le = LabelEncoder()\n",
    "    new_y_train = le.fit_transform(y_train)\n",
    "    new_y_test = le.transform(y_test)\n",
    "    \n",
    "    return new_X_train, new_X_test, new_y_train, new_y_test, vocab"
   ]
  },
  {
   "cell_type": "code",
   "execution_count": 8,
   "id": "5a114906",
   "metadata": {},
   "outputs": [
    {
     "name": "stdout",
     "output_type": "stream",
     "text": [
      "Shapes:\n",
      "X_train (4456,) | X_test (1115,) | y_train (4456,) | y_test (1115,)\n"
     ]
    }
   ],
   "source": [
    "print('Shapes:')\n",
    "X_train, X_test, y_train, y_test, vocab = preprocess_data(data)"
   ]
  },
  {
   "cell_type": "markdown",
   "id": "e8bb70b6",
   "metadata": {},
   "source": [
    "Apply padding"
   ]
  },
  {
   "cell_type": "code",
   "execution_count": 9,
   "id": "cc77c01a",
   "metadata": {},
   "outputs": [],
   "source": [
    "def padding(sentences, seq_len):\n",
    "    features = np.zeros((len(sentences), seq_len),dtype=int)\n",
    "    for ii, review in enumerate(sentences):\n",
    "        if len(review) != 0:\n",
    "            features[ii, -len(review):] = np.array(review)[:seq_len]\n",
    "    return features"
   ]
  },
  {
   "cell_type": "code",
   "execution_count": 10,
   "id": "b127cbac",
   "metadata": {},
   "outputs": [],
   "source": [
    "X_train = padding(X_train, 100)\n",
    "X_test = padding(X_test, 100)"
   ]
  },
  {
   "cell_type": "markdown",
   "id": "e6040420",
   "metadata": {},
   "source": [
    "Get tensors and load to DataLoader"
   ]
  },
  {
   "cell_type": "code",
   "execution_count": 11,
   "id": "2fafcd9d",
   "metadata": {},
   "outputs": [],
   "source": [
    "X_train, y_train = torch.Tensor(X_train), torch.Tensor(y_train)\n",
    "X_test, y_test = torch.Tensor(X_test), torch.Tensor(y_test)\n",
    "\n",
    "train_dataset = TensorDataset(X_train, y_train)\n",
    "test_dataset = TensorDataset(X_test, y_test)\n",
    "\n",
    "batch_size = 32\n",
    "\n",
    "train_dataloader = DataLoader(train_dataset, batch_size = batch_size, shuffle = True, drop_last = True)\n",
    "test_dataloader = DataLoader(test_dataset, batch_size = batch_size, drop_last = True)"
   ]
  },
  {
   "cell_type": "markdown",
   "id": "724770a2",
   "metadata": {},
   "source": [
    "Model definition"
   ]
  },
  {
   "cell_type": "code",
   "execution_count": 12,
   "id": "c7ee9af0",
   "metadata": {},
   "outputs": [],
   "source": [
    "def model_def():\n",
    "\n",
    "    class LSTM(nn.Module):\n",
    "        def __init__(self, no_layers, vocab_size, hidden_dim, embedding_dim, output_dim):\n",
    "            super().__init__()\n",
    "\n",
    "            self.no_layers = no_layers\n",
    "            self.hidden_dim = hidden_dim\n",
    "            self.output_dim = output_dim\n",
    "\n",
    "            self.embedding = nn.Embedding(vocab_size, embedding_dim)\n",
    "            self.lstm = nn.LSTM(\n",
    "                input_size = embedding_dim, \n",
    "                hidden_size = hidden_dim, \n",
    "                num_layers = no_layers, \n",
    "                batch_first = True\n",
    "            )\n",
    "            self.dropout = nn.Dropout(.3)\n",
    "            self.fc = nn.Linear(hidden_dim, output_dim)\n",
    "\n",
    "        def forward(self, x, hidden):\n",
    "            x = self.embedding(x)\n",
    "            x, hidden = self.lstm(x, hidden)\n",
    "            x =  x[:, -1, :]\n",
    "            x = self.dropout(x)\n",
    "            x = self.fc(x)\n",
    "            return x, hidden\n",
    "\n",
    "        def init_hidden(self, batch_size):\n",
    "            h0 = torch.zeros((self.no_layers,batch_size,self.hidden_dim)).to(device)\n",
    "            c0 = torch.zeros((self.no_layers,batch_size,self.hidden_dim)).to(device)\n",
    "            hidden = (h0,c0)\n",
    "            return hidden \n",
    "\n",
    "    lstm = LSTM (\n",
    "        no_layers = 2,\n",
    "        hidden_dim = 64,\n",
    "        output_dim = 5,\n",
    "        embedding_dim = 64,\n",
    "        vocab_size = len(vocab)+1,\n",
    "    )\n",
    "\n",
    "    lossfun = nn.CrossEntropyLoss()\n",
    "    optimizer = torch.optim.Adam(lstm.parameters(), lr = .001)\n",
    "    \n",
    "    return lstm, lossfun, optimizer"
   ]
  },
  {
   "cell_type": "markdown",
   "id": "12eaa697",
   "metadata": {},
   "source": [
    "Model training"
   ]
  },
  {
   "cell_type": "code",
   "execution_count": 13,
   "id": "7a182cc2",
   "metadata": {},
   "outputs": [],
   "source": [
    "def model_train():\n",
    "    clip = 5 # gradient clipping\n",
    "    epochs = 5\n",
    "    \n",
    "    lstm, lossfun, optimizer = model_def()\n",
    "    lstm.to(device)\n",
    "    \n",
    "    train_acc = []\n",
    "    train_loss = []\n",
    "    test_acc = []\n",
    "    test_loss = []\n",
    "    \n",
    "    yTrue = []\n",
    "    yPred = []\n",
    "    \n",
    "    for epochi in range(epochs):\n",
    "        batchAcc = []\n",
    "        batchLoss = []\n",
    "        \n",
    "        h = lstm.init_hidden(batch_size)\n",
    "        \n",
    "        lstm.train()\n",
    "        \n",
    "        for X, y in train_dataloader:\n",
    "            X, y = X.to(device, dtype=torch.int), y.to(device, dtype=torch.long)\n",
    "            h = tuple([each.data for each in h])\n",
    "            yHat, h = lstm(X, h)\n",
    "            \n",
    "            loss = lossfun(yHat, y)\n",
    "            \n",
    "            batchAcc.append(torch.mean((torch.argmax(yHat.cpu(), axis = 1) == y.cpu()).float()))\n",
    "            batchLoss.append(loss.item())\n",
    "            \n",
    "            optimizer.zero_grad()\n",
    "            loss.backward()\n",
    "            \n",
    "            nn.utils.clip_grad_norm_(lstm.parameters(), clip)\n",
    "            optimizer.step()\n",
    "        \n",
    "        train_acc.append(np.mean(batchAcc))\n",
    "        train_loss.append(np.mean(batchLoss))\n",
    "        \n",
    "        lstm.eval()\n",
    "        \n",
    "        with torch.no_grad():\n",
    "            \n",
    "            h = lstm.init_hidden(batch_size)\n",
    "        \n",
    "            batchAcc = []\n",
    "            batchLoss = []\n",
    "\n",
    "            for X, y in test_dataloader:\n",
    "                X, y = X.to(device, dtype=torch.int), y.to(device, dtype=torch.long)\n",
    "                h = tuple([each.data for each in h])\n",
    "                yHat, h = lstm(X, h)\n",
    "                \n",
    "                yHat = yHat.squeeze()\n",
    "\n",
    "                loss = lossfun(yHat, y)\n",
    "\n",
    "                yTrue.extend(y)\n",
    "                yPred.extend(torch.argmax(yHat.cpu(), axis = 1))\n",
    "\n",
    "                batchAcc.append(torch.mean((torch.argmax(yHat.cpu(), axis = 1) == y.cpu()).float()))\n",
    "                batchLoss.append(loss.item())\n",
    "\n",
    "            test_acc.append(np.mean(batchAcc))\n",
    "            test_loss.append(np.mean(batchLoss))\n",
    "        \n",
    "    return train_acc, test_acc, train_loss, test_loss"
   ]
  },
  {
   "cell_type": "code",
   "execution_count": 19,
   "id": "4d5d878b",
   "metadata": {},
   "outputs": [
    {
     "name": "stdout",
     "output_type": "stream",
     "text": [
      "Training time: 2.08 seconds\n",
      "Training accuracy: 98.67%\n",
      "Testing accuracy: 97.43%\n"
     ]
    }
   ],
   "source": [
    "start = time.time()\n",
    "train_acc, test_acc, train_loss, test_loss = model_train()\n",
    "end = time.time()\n",
    "\n",
    "print(\"Training time: {:.2f} seconds\".format(end - start))\n",
    "print(\"Training accuracy: {:.2f}%\".format(train_acc[-1] * 100))\n",
    "print(\"Testing accuracy: {:.2f}%\".format(test_acc[-1] * 100))"
   ]
  },
  {
   "cell_type": "markdown",
   "id": "6ea72fe3",
   "metadata": {},
   "source": [
    "Loss plot"
   ]
  },
  {
   "cell_type": "code",
   "execution_count": 33,
   "id": "b1cda1c6",
   "metadata": {},
   "outputs": [
    {
     "data": {
      "image/png": "[encoded data removed]",
      "text/plain": [
       "<Figure size 700x400 with 1 Axes>"
      ]
     },
     "metadata": {},
     "output_type": "display_data"
    }
   ],
   "source": [
    "plt.figure(figsize = (7, 4))\n",
    "plt.style.use('seaborn-v0_8')  \n",
    "\n",
    "plt.plot(train_loss, label = 'Training Loss', color = '#2E86AB', linewidth = 2)\n",
    "plt.plot(test_loss, label = 'Testing Loss', color = '#F24236', linewidth = 2, linestyle = '--')\n",
    "\n",
    "plt.title(\"Training & Testing Loss\", fontsize = 15, fontweight = 'bold', pad = 10)\n",
    "plt.xlabel(\"Epoch\", fontsize = 10)\n",
    "plt.ylabel(\"Loss\", fontsize = 10)\n",
    "\n",
    "plt.legend(frameon = True, fancybox = True, shadow = True)\n",
    "plt.grid(True, alpha = 0.3)\n",
    "\n",
    "plt.tight_layout()\n",
    "plt.show()"
   ]
  }
 ],
 "metadata": {
  "kernelspec": {
   "display_name": "py310",
   "language": "python",
   "name": "python3"
  },
  "language_info": {
   "codemirror_mode": {
    "name": "ipython",
    "version": 3
   },
   "file_extension": ".py",
   "mimetype": "text/x-python",
   "name": "python",
   "nbconvert_exporter": "python",
   "pygments_lexer": "ipython3",
   "version": "3.10.15"
  }
 },
 "nbformat": 4,
 "nbformat_minor": 5
}
